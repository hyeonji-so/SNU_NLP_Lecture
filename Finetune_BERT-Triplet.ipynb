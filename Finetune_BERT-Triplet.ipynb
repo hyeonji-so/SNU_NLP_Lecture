{
 "cells": [
  {
   "cell_type": "markdown",
   "metadata": {},
   "source": [
    "# BERT Triplet model fine-tuning (cls)"
   ]
  },
  {
   "cell_type": "markdown",
   "metadata": {},
   "source": [
    "## import"
   ]
  },
  {
   "cell_type": "code",
   "execution_count": 1,
   "metadata": {},
   "outputs": [],
   "source": [
    "import os\n",
    "import numpy as np\n",
    "import matplotlib.pyplot as plt\n",
    "\n",
    "import tensorflow as tf\n",
    "\n",
    "import tensorflow_hub as hub\n",
    "import tensorflow_datasets as tfds\n",
    "tfds.disable_progress_bar()\n",
    "\n",
    "from official.modeling import tf_utils\n",
    "from official import nlp\n",
    "from official.nlp import bert\n",
    "\n",
    "# Load the required submodules\n",
    "import official.nlp.optimization\n",
    "import official.nlp.bert.bert_models\n",
    "import official.nlp.bert.configs\n",
    "import official.nlp.bert.run_classifier\n",
    "import official.nlp.bert.tokenization\n",
    "import official.nlp.data.classifier_data_lib\n",
    "import official.nlp.modeling.losses\n",
    "import official.nlp.modeling.models\n",
    "import official.nlp.modeling.networks\n",
    "\n",
    "import pandas as pd\n",
    "import tensorboard\n",
    "from sklearn.model_selection import train_test_split\n",
    "\n",
    "# triplet\n",
    "import tensorflow_addons as tfa\n",
    "import tensorflow.keras.backend as K"
   ]
  },
  {
   "cell_type": "markdown",
   "metadata": {},
   "source": [
    "## resources (config)"
   ]
  },
  {
   "cell_type": "code",
   "execution_count": 2,
   "metadata": {},
   "outputs": [],
   "source": [
    "# OUTPUT: 저장될 경로, 모델명, 버전 정보\n",
    "output_dir = 'output' # encoder 모델, log 저장할 상위 폴더\n",
    "model_name = 'TRI_FT_ORI_TREC_42'\n",
    "version = 'v2.3'\n",
    "\n",
    "# INPUT: 기존 BERT base 모델, 데이터 경로\n",
    "model_ckpt = 'pre-trained_BERT/uncased_L-12_H-768_A-12' # ckpt, vocab 들어있는 폴더 (구글 공식 제공)\n",
    "dataset = 'dataset/trec' # 데이터 폴더\n",
    "\n",
    "# 불러올 모델의 이름, epoch, 버전 설정\n",
    "encoder_name = 'TRI_SUM_TREC_42'\n",
    "encoder_epoch_num = 17 # 최저 val_loss epoch = 17\n",
    "encoder_version = 'v2.3'\n",
    "\n",
    "# 해당 모델의 epcch, batch size 설정\n",
    "epoch = 10 #FT 모두 10번 할 것\n",
    "batch_size = 32\n",
    "\n",
    "# dataset 및 shape 설정\n",
    "dataset_type = 'TREC_42' # TREC_6 / TREC_42\n",
    "ftmodel_shape = 'ORI' # ORI / L2 / DENSE_L2"
   ]
  },
  {
   "cell_type": "code",
   "execution_count": 3,
   "metadata": {},
   "outputs": [
    {
     "name": "stdout",
     "output_type": "stream",
     "text": [
      "==== LOAD ENCODER 경로 ====\n",
      "load encoder path: output/TRI_SUM_TREC_42/v2.3/models/encoder/17 \n",
      "\n",
      "==== OUTPUT 경로 ====\n",
      "model path: output/FT/TRI_FT_ORI_TREC_42/v2.3/models\n",
      "log path: output/FT/TRI_FT_ORI_TREC_42/v2.3/logs\n"
     ]
    }
   ],
   "source": [
    "# 폴더 미존재 시 자동 생성함\n",
    "model_dir = output_dir + '/FT/' + model_name + '/' + version + '/models' # model 저장할 폴더\n",
    "log_dir = output_dir + '/FT/' + model_name + '/' + version + '/logs'# log 저장할 폴더\n",
    "my_encoder_ckpt = output_dir + '/' + encoder_name + '/' + encoder_version + '/models/encoder/%s'%encoder_epoch_num\n",
    "\n",
    "print('==== LOAD ENCODER 경로 ====')\n",
    "print('load encoder path:', my_encoder_ckpt, '\\n')\n",
    "\n",
    "print('==== OUTPUT 경로 ====')\n",
    "print('model path:', model_dir)\n",
    "print('log path:', log_dir)\n",
    "\n",
    "# 에러 메시지 안띄움\n",
    "tf.get_logger().setLevel('FATAL')"
   ]
  },
  {
   "cell_type": "markdown",
   "metadata": {},
   "source": [
    "## callback"
   ]
  },
  {
   "cell_type": "code",
   "execution_count": 4,
   "metadata": {},
   "outputs": [],
   "source": [
    "model_tensorboard = tf.keras.callbacks.TensorBoard(log_dir=log_dir)\n",
    "\n",
    "class CustomCallback(tf.keras.callbacks.Callback):\n",
    "    def on_epoch_end(self, epoch, logs=None):\n",
    "        bert_classifier.save_weights(model_dir+'/classifier/%d/'%(epoch + 1))\n",
    "        checkpoint = tf.train.Checkpoint(optimizer=optimizer, model=bert_encoder)\n",
    "        path = checkpoint.write(model_dir+\"/encoder/%d/ckpt\"%(epoch + 1))"
   ]
  },
  {
   "cell_type": "markdown",
   "metadata": {},
   "source": [
    "## datasets"
   ]
  },
  {
   "cell_type": "code",
   "execution_count": 5,
   "metadata": {},
   "outputs": [],
   "source": [
    "# df 불러오기\n",
    "temp_train_df = pd.read_csv(dataset+'/trec_train_5500.csv')\n",
    "test_df = pd.read_csv(dataset+'/trec_test.csv')"
   ]
  },
  {
   "cell_type": "code",
   "execution_count": 6,
   "metadata": {},
   "outputs": [
    {
     "name": "stdout",
     "output_type": "stream",
     "text": [
      "class개수: 50개\n",
      "class목록: ['DESC:manner', 'ENTY:cremat', 'ENTY:animal', 'ABBR:exp', 'HUM:ind', 'HUM:gr', 'HUM:title', 'DESC:def', 'NUM:date', 'DESC:reason', 'ENTY:event', 'LOC:state', 'DESC:desc', 'NUM:count', 'ENTY:other', 'ENTY:letter', 'LOC:other', 'ENTY:religion', 'ENTY:food', 'LOC:country', 'ENTY:color', 'ENTY:termeq', 'LOC:city', 'ENTY:body', 'ENTY:dismed', 'LOC:mount', 'NUM:money', 'ENTY:product', 'NUM:period', 'ENTY:substance', 'ENTY:sport', 'ENTY:plant', 'ENTY:techmeth', 'NUM:volsize', 'HUM:desc', 'ENTY:instru', 'ABBR:abb', 'NUM:other', 'NUM:speed', 'ENTY:word', 'ENTY:lang', 'NUM:perc', 'NUM:code', 'NUM:dist', 'NUM:temp', 'ENTY:symbol', 'NUM:ord', 'ENTY:veh', 'NUM:weight', 'ENTY:currency']\n",
      "ENTY:cremat\n",
      "ENTY:letter\n",
      "ENTY:religion\n",
      "NUM:volsize\n",
      "ENTY:word\n",
      "NUM:code\n",
      "ENTY:symbol\n",
      "NUM:ord\n"
     ]
    }
   ],
   "source": [
    "if dataset_type == 'TREC_6':\n",
    "    # 6개짜리로 index 수정\n",
    "    temp_train_df['Class Index'] = temp_train_df['Class Index'].str.split(':').str[0]\n",
    "    test_df['Class Index'] = test_df['Class Index'].str.split(':').str[0]\n",
    "\n",
    "elif dataset_type == 'TREC_42':\n",
    "    # 클래스 개수 파악\n",
    "    num_classes = len(temp_train_df['Class Index'].unique())\n",
    "    print('class개수: %d개'%num_classes)\n",
    "    print('class목록:',list(temp_train_df['Class Index'].unique()))\n",
    "\n",
    "    # test에 없는 클래스 파악\n",
    "    test_list = list(test_df['Class Index'].unique())\n",
    "    remove_label = []\n",
    "\n",
    "    for label in list(temp_train_df['Class Index'].unique()):\n",
    "        if label not in test_list:\n",
    "            print(label)\n",
    "            remove_label.append(label)\n",
    "            \n",
    "    # test에 없는 클래스 제거\n",
    "    for remove in remove_label:\n",
    "        temp_train_df = temp_train_df[temp_train_df['Class Index'] != remove]\n",
    "\n",
    "    temp_train_df\n",
    "    \n",
    "else:\n",
    "    raise Exception('잘못된 데이터 셋 입력')"
   ]
  },
  {
   "cell_type": "code",
   "execution_count": 7,
   "metadata": {},
   "outputs": [
    {
     "name": "stdout",
     "output_type": "stream",
     "text": [
      "class개수: 42개\n",
      "class목록: ['DESC:manner', 'ENTY:animal', 'ABBR:exp', 'HUM:ind', 'HUM:gr', 'HUM:title', 'DESC:def', 'NUM:date', 'DESC:reason', 'ENTY:event', 'LOC:state', 'DESC:desc', 'NUM:count', 'ENTY:other', 'LOC:other', 'ENTY:food', 'LOC:country', 'ENTY:color', 'ENTY:termeq', 'LOC:city', 'ENTY:body', 'ENTY:dismed', 'LOC:mount', 'NUM:money', 'ENTY:product', 'NUM:period', 'ENTY:substance', 'ENTY:sport', 'ENTY:plant', 'ENTY:techmeth', 'HUM:desc', 'ENTY:instru', 'ABBR:abb', 'NUM:other', 'NUM:speed', 'ENTY:lang', 'NUM:perc', 'NUM:dist', 'NUM:temp', 'ENTY:veh', 'NUM:weight', 'ENTY:currency']\n"
     ]
    }
   ],
   "source": [
    "# 클래스 개수 파악\n",
    "num_classes = len(temp_train_df['Class Index'].unique())\n",
    "print('class개수: %d개'%num_classes)\n",
    "print('class목록:',list(temp_train_df['Class Index'].unique()))"
   ]
  },
  {
   "cell_type": "code",
   "execution_count": 8,
   "metadata": {},
   "outputs": [],
   "source": [
    "# train, validation 분할\n",
    "train_df = pd.DataFrame(columns = ['Class Index','Sum'])\n",
    "validation_df = pd.DataFrame(columns = ['Class Index','Sum'])\n",
    "\n",
    "for label in list(temp_train_df['Class Index'].unique()):\n",
    "    temp=train_test_split(temp_train_df[temp_train_df['Class Index']==label], shuffle=True, test_size=0.1) # 얘를 true로\n",
    "    train_df = pd.concat([train_df,temp[0]])\n",
    "    validation_df = pd.concat([validation_df,temp[1]])\n",
    "    del temp\n",
    "\n",
    "del temp_train_df"
   ]
  },
  {
   "cell_type": "code",
   "execution_count": 9,
   "metadata": {},
   "outputs": [],
   "source": [
    "num = 0\n",
    "label_dic = {}\n",
    "for i in list(train_df['Class Index'].unique()):\n",
    "    label_dic[i] = num\n",
    "    num+=1"
   ]
  },
  {
   "cell_type": "code",
   "execution_count": 10,
   "metadata": {},
   "outputs": [],
   "source": [
    "# 필요시 label 수정\n",
    "train_df['Class Index'] = train_df['Class Index'].replace(label_dic)\n",
    "test_df['Class Index'] = test_df['Class Index'].replace(label_dic)\n",
    "validation_df['Class Index'] = validation_df['Class Index'].replace(label_dic)"
   ]
  },
  {
   "cell_type": "code",
   "execution_count": 11,
   "metadata": {},
   "outputs": [
    {
     "name": "stdout",
     "output_type": "stream",
     "text": [
      "수정된 class목록: {'DESC:manner': 0, 'ENTY:animal': 1, 'ABBR:exp': 2, 'HUM:ind': 3, 'HUM:gr': 4, 'HUM:title': 5, 'DESC:def': 6, 'NUM:date': 7, 'DESC:reason': 8, 'ENTY:event': 9, 'LOC:state': 10, 'DESC:desc': 11, 'NUM:count': 12, 'ENTY:other': 13, 'LOC:other': 14, 'ENTY:food': 15, 'LOC:country': 16, 'ENTY:color': 17, 'ENTY:termeq': 18, 'LOC:city': 19, 'ENTY:body': 20, 'ENTY:dismed': 21, 'LOC:mount': 22, 'NUM:money': 23, 'ENTY:product': 24, 'NUM:period': 25, 'ENTY:substance': 26, 'ENTY:sport': 27, 'ENTY:plant': 28, 'ENTY:techmeth': 29, 'HUM:desc': 30, 'ENTY:instru': 31, 'ABBR:abb': 32, 'NUM:other': 33, 'NUM:speed': 34, 'ENTY:lang': 35, 'NUM:perc': 36, 'NUM:dist': 37, 'NUM:temp': 38, 'ENTY:veh': 39, 'NUM:weight': 40, 'ENTY:currency': 41}\n"
     ]
    }
   ],
   "source": [
    "print('수정된 class목록:',label_dic)"
   ]
  },
  {
   "cell_type": "markdown",
   "metadata": {},
   "source": [
    "## BERT tokenizer"
   ]
  },
  {
   "cell_type": "code",
   "execution_count": 12,
   "metadata": {},
   "outputs": [
    {
     "name": "stdout",
     "output_type": "stream",
     "text": [
      "Vocab size: 30522\n"
     ]
    }
   ],
   "source": [
    "# vocab 불러와서 tokenizer 생성\n",
    "# Set up tokenizer to generate Tensorflow dataset\n",
    "tokenizer = bert.tokenization.FullTokenizer(\n",
    "    vocab_file=os.path.join(model_ckpt, \"vocab.txt\"),\n",
    "     do_lower_case=True)\n",
    "\n",
    "print(\"Vocab size:\", len(tokenizer.vocab))"
   ]
  },
  {
   "cell_type": "code",
   "execution_count": 13,
   "metadata": {},
   "outputs": [],
   "source": [
    "# 위의 과정을 합친 것으로, 함수 두 개 선언\n",
    "# 쪼개고, 뒤에 [SEP] 붙이고 ids로 변환\n",
    "def encode_sentence(s, tokenizer): \n",
    "   tokens = list(tokenizer.tokenize(s))\n",
    "   tokens.append('[SEP]')\n",
    "   return tokenizer.convert_tokens_to_ids(tokens)\n",
    "\n",
    "# 실제 문장들에 위 함수 적용하고, 맨 앞에 CLS 붙여줌\n",
    "def bert_encode(df_column, tokenizer): \n",
    "#   num_examples = len(df_column)\n",
    "  \n",
    "  sentence1 = tf.ragged.constant([\n",
    "      encode_sentence(s, tokenizer)\n",
    "      for s in np.array(df_column)])\n",
    "\n",
    "  cls = [tokenizer.convert_tokens_to_ids(['[CLS]'])]*sentence1.shape[0]\n",
    "  input_word_ids = tf.concat([cls, sentence1], axis=-1)\n",
    "\n",
    "# 실제 텍스트인 부분을 1로 바꿔줌 (텍스트 및 패딩 영역 시각화)\n",
    "  input_mask = tf.ones_like(input_word_ids).to_tensor()\n",
    "\n",
    "    # cls~sentence1은 0으로, sentence2는 1로 변경 (시각화)\n",
    "  type_cls = tf.zeros_like(cls)\n",
    "  type_s1 = tf.zeros_like(sentence1)\n",
    "  input_type_ids = tf.concat(\n",
    "      [type_cls, type_s1], axis=-1).to_tensor(1)\n",
    "\n",
    "  inputs = {\n",
    "      'input_word_ids': input_word_ids.to_tensor(),\n",
    "      'input_mask': input_mask,\n",
    "      'input_type_ids': input_type_ids\n",
    "      }\n",
    "\n",
    "  return inputs"
   ]
  },
  {
   "cell_type": "code",
   "execution_count": 14,
   "metadata": {},
   "outputs": [
    {
     "name": "stdout",
     "output_type": "stream",
     "text": [
      "test tokenize 완료\n",
      "validation tokenize 완료\n",
      "train tokenize 완료\n"
     ]
    }
   ],
   "source": [
    "# tokenizer 적용\n",
    "test = bert_encode(test_df['Sum'], tokenizer)\n",
    "test_labels = tf.convert_to_tensor(test_df['Class Index'],dtype=tf.float64)\n",
    "print('test tokenize 완료')\n",
    "\n",
    "validation = bert_encode(validation_df['Sum'], tokenizer)\n",
    "validation_labels = tf.convert_to_tensor(validation_df['Class Index'],dtype=tf.float64)\n",
    "print('validation tokenize 완료')\n",
    "\n",
    "train = bert_encode(train_df['Sum'], tokenizer)\n",
    "train_labels = tf.convert_to_tensor(train_df['Class Index'],dtype=tf.float64)\n",
    "print('train tokenize 완료')"
   ]
  },
  {
   "cell_type": "code",
   "execution_count": 15,
   "metadata": {},
   "outputs": [
    {
     "name": "stdout",
     "output_type": "stream",
     "text": [
      "input_word_ids  shape: (4629, 41)\n",
      "input_mask      shape: (4629, 41)\n",
      "input_type_ids  shape: (4629, 41)\n",
      "train_labels shape: (4629,)\n"
     ]
    }
   ],
   "source": [
    "# 출력 필수는 아니지만.. (잘 됐는지 여부나 확인하자)\n",
    "for key, value in train.items():\n",
    "  print(f'{key:15s} shape: {value.shape}')\n",
    "\n",
    "print(f'train_labels shape: {train_labels.shape}')"
   ]
  },
  {
   "cell_type": "markdown",
   "metadata": {},
   "source": [
    "## 모델\n",
    "### (1) 모델 구성 다운로드\n",
    "사전학습된 모델의 구성 다운로드"
   ]
  },
  {
   "cell_type": "code",
   "execution_count": 16,
   "metadata": {},
   "outputs": [
    {
     "data": {
      "text/plain": [
       "{'attention_probs_dropout_prob': 0.1,\n",
       " 'hidden_act': 'gelu',\n",
       " 'hidden_dropout_prob': 0.1,\n",
       " 'hidden_size': 768,\n",
       " 'initializer_range': 0.02,\n",
       " 'intermediate_size': 3072,\n",
       " 'max_position_embeddings': 512,\n",
       " 'num_attention_heads': 12,\n",
       " 'num_hidden_layers': 12,\n",
       " 'type_vocab_size': 2,\n",
       " 'vocab_size': 30522}"
      ]
     },
     "execution_count": 16,
     "metadata": {},
     "output_type": "execute_result"
    }
   ],
   "source": [
    "import json\n",
    "\n",
    "bert_config_file = os.path.join(model_ckpt, \"bert_config.json\")\n",
    "config_dict = json.loads(tf.io.gfile.GFile(bert_config_file).read())\n",
    "\n",
    "bert_config = bert.configs.BertConfig.from_dict(config_dict)\n",
    "\n",
    "config_dict"
   ]
  },
  {
   "cell_type": "markdown",
   "metadata": {},
   "source": [
    "### (2) ENCODER 모델 shape에 따라 모델 구축 및 가중치 로드"
   ]
  },
  {
   "cell_type": "code",
   "execution_count": 17,
   "metadata": {},
   "outputs": [
    {
     "name": "stdout",
     "output_type": "stream",
     "text": [
      "=== Checklist 1 : 하단 encoder 및 classifier 값이 다른지 ===\n",
      "(1) encoder 가중치 복원 성공 ✨\n",
      "(2) classifier 연결 성공 ✨ \n",
      "\n",
      "=== Checklist 2 : 하단 encoder 값이 pretrain 시의 값과 같은지 (last epoch인 경우만!) ===\n",
      "tf.Tensor(\n",
      "[[-0.04521042 -0.00845004 -0.03835804 ...  0.00937658 -0.04423252\n",
      "   0.0525574 ]\n",
      " [-0.02941011 -0.03656969 -0.0433353  ... -0.04169269 -0.0394551\n",
      "   0.033793  ]], shape=(2, 768), dtype=float32)\n"
     ]
    }
   ],
   "source": [
    "if ftmodel_shape == 'ORI': # ORIGINAL인 경우\n",
    "    # 1_ bert_encoder, classifier 둘 다 불러옴\n",
    "    bert_classifier, bert_encoder = bert.bert_models.classifier_model(\n",
    "    bert_config, num_labels=num_classes)\n",
    "    \n",
    "    # 불러온 모델 시각화는?\n",
    "    \n",
    "    # 초기 출력값\n",
    "    initial_encoder = bert_encoder(bert_encode(['hi my','name hj'],tokenizer))\n",
    "    initial_classifier = bert_classifier.predict(bert_encode(['hi my','name hj'],tokenizer))\n",
    "    \n",
    "    # 가중치 복원 (내가 학습시킨 encoder)\n",
    "    checkpoint = tf.train.Checkpoint(model=bert_encoder)\n",
    "    checkpoint.restore(os.path.join(my_encoder_ckpt, 'ckpt')).expect_partial()\n",
    "    \n",
    "    # 복원 후 출력값\n",
    "    real_encoder = bert_encoder(bert_encode(['hi my','name hj'],tokenizer))\n",
    "    real_classifier = bert_classifier.predict(bert_encode(['hi my','name hj'],tokenizer))\n",
    "    \n",
    "    # temp encoder 생성 (encoder 학습 시의 구조 복원)\n",
    "    from tensorflow.keras.layers import Lambda, Dense\n",
    "\n",
    "    x = bert_encoder.layers[-1].output\n",
    "    outputs = Lambda(lambda x: tf.math.l2_normalize(x,axis=1))(x)\n",
    "    bert_encoder_test = tf.keras.Model(bert_encoder.input, outputs)\n",
    "\n",
    "    test_encoder = bert_encoder_test(bert_encode(['hi my','name hj'],tokenizer))\n",
    "    del bert_encoder_test # 다 썼으면 버려\n",
    "    \n",
    "    # encoder끼리 다르고, classifier끼리 달라야 함\n",
    "    print('=== Checklist 1 : 하단 encoder 및 classifier 값이 다른지 ===')\n",
    "    \n",
    "    if not np.array_equal(initial_encoder[0],real_encoder[0]) and not np.array_equal(initial_encoder[1],real_encoder[1]):\n",
    "        print('(1) encoder 가중치 복원 성공 ✨')\n",
    "    else:\n",
    "        raise Exception('encoder 가중치 복원 실패')\n",
    "        \n",
    "    if not np.array_equal(initial_classifier[0],real_classifier[0]) and not np.array_equal(initial_classifier[1],real_classifier[1]):\n",
    "        print('(2) classifier 연결 성공 ✨ \\n')   \n",
    "    else:\n",
    "        raise Exception('classifier 연결 실패')\n",
    "        \n",
    "    print('=== Checklist 2 : 하단 encoder 값이 pretrain 시의 값과 같은지 (last epoch인 경우만!) ===')\n",
    "    print(test_encoder)\n",
    "    \n",
    "elif ftmodel_shape == 'L2':\n",
    "    print('--')\n",
    "\n",
    "elif ftmodel_shape == 'DENSE_L2':\n",
    "    print('--')\n",
    "\n",
    "else:\n",
    "    raise Exception('잘못된 model shape 입력')"
   ]
  },
  {
   "cell_type": "markdown",
   "metadata": {},
   "source": [
    "### 값 확인을 원한다면"
   ]
  },
  {
   "cell_type": "code",
   "execution_count": 18,
   "metadata": {},
   "outputs": [
    {
     "name": "stdout",
     "output_type": "stream",
     "text": [
      "(1) encoder\n",
      "\n",
      "initial encoder==========\n",
      "[<tf.Tensor: shape=(2, 1, 768), dtype=float32, numpy=\n",
      "array([[[-1.2054819 ,  0.34670165,  1.1819605 , ...,  1.3357555 ,\n",
      "         -1.5554322 , -0.64482343]],\n",
      "\n",
      "       [[-1.5116467 , -0.00452171,  1.0792621 , ...,  1.272426  ,\n",
      "         -1.4472915 , -0.53344655]]], dtype=float32)>, <tf.Tensor: shape=(2, 768), dtype=float32, numpy=\n",
      "array([[-0.10780464,  0.7742011 ,  0.19324581, ...,  0.11383574,\n",
      "        -0.2828127 ,  0.87296265],\n",
      "       [-0.23952024,  0.8248466 ,  0.19055977, ...,  0.08590854,\n",
      "        -0.17058446,  0.7554058 ]], dtype=float32)>]\n",
      "\n",
      "real encoder:==========\n",
      "[<tf.Tensor: shape=(2, 1, 768), dtype=float32, numpy=\n",
      "array([[[-1.304445  ,  0.50308853, -0.20609869, ...,  0.70788825,\n",
      "         -0.57860595,  0.9847571 ]],\n",
      "\n",
      "       [[-0.83099   ,  0.18827663, -0.48567125, ..., -1.1817669 ,\n",
      "         -0.7015257 , -0.16534434]]], dtype=float32)>, <tf.Tensor: shape=(2, 768), dtype=float32, numpy=\n",
      "array([[-0.78241605, -0.14623718, -0.6638281 , ...,  0.16227208,\n",
      "        -0.7654923 ,  0.90956354],\n",
      "       [-0.6508852 , -0.80933654, -0.9590684 , ..., -0.92271537,\n",
      "        -0.8731946 ,  0.74788463]], dtype=float32)>]\n",
      "\n",
      "\n",
      "(2) classifier\n",
      "\n",
      "initial classifier:==========\n",
      "[[ 0.04775107  0.01369388  0.04605654  0.18101944 -0.00183176  0.15927708\n",
      "   0.26088366  0.10969339 -0.0096326  -0.01034921  0.07775479 -0.2358863\n",
      "   0.10600728  0.1307129   0.21378925 -0.26360056  0.04895497  0.05037007\n",
      "   0.10191224 -0.10542937  0.21758065 -0.24584754 -0.00865026 -0.05300443\n",
      "   0.14725731 -0.02443494  0.10034883 -0.13951378  0.08605507 -0.1441809\n",
      "   0.21100667  0.3153796   0.04358245 -0.05192009 -0.22866577 -0.07800293\n",
      "   0.28540313 -0.17910776 -0.03325308 -0.30910113 -0.25209075  0.24153285]\n",
      " [ 0.0104319  -0.01305792 -0.04569541  0.12206033 -0.04867727  0.3296982\n",
      "   0.13508044  0.0957092  -0.04723111 -0.07501616  0.06207659 -0.23792392\n",
      "   0.07731858  0.19162855  0.3376065  -0.27239746  0.11924294  0.11273205\n",
      "   0.07968888 -0.10230381  0.18442966 -0.2927094  -0.06229503 -0.02137569\n",
      "   0.03784327 -0.08462191  0.10978004 -0.14481091  0.14022076 -0.11523008\n",
      "   0.27498284  0.3438046  -0.03058832 -0.07864056 -0.1846547  -0.09936697\n",
      "   0.287219   -0.0996434  -0.12050294 -0.35188493 -0.17467628  0.13125198]]\n",
      "\n",
      "real classifier:==========\n",
      "[[-0.1047365  -0.3067672  -0.505454    0.11593892  0.41534755 -0.34814486\n",
      "   0.23721454 -0.35360914  0.05853309  0.05863461 -0.1353864   0.5270102\n",
      "  -0.00328168 -0.13533193  0.01194162 -0.45988128  0.3617134   0.08275492\n",
      "  -0.2558497  -0.05324111 -0.23774287 -0.5546433  -0.265449   -0.03776759\n",
      "   0.18127842 -0.02221244 -0.38820484  0.35079965 -0.5929547  -0.36572227\n",
      "  -0.2403946  -0.26023197 -0.21027642  0.42605305  0.37583494 -0.22110167\n",
      "  -0.03691695 -0.3389171   0.15286776 -0.12040186 -0.15596968  0.31353456]\n",
      " [-0.43378294 -0.4159579  -0.36625564 -0.18074167  0.6071353  -0.19818892\n",
      "   0.7020682  -0.98116684  0.14852522  0.17398383 -0.3141634   0.40982205\n",
      "   0.43064144 -0.35943857 -0.05717268  0.02531171  0.31687897  0.16107412\n",
      "   0.10937518 -0.07219863 -0.20104682 -0.54117346 -0.1737017  -0.10164236\n",
      "   0.13299105 -0.36724547 -0.3816139   0.7108822  -0.4522021  -0.48949403\n",
      "  -0.32107756 -0.5444535  -0.5056117   0.5390586   0.34218726 -0.07932369\n",
      "   0.45019397 -0.38842535  0.32183376  0.01454818 -0.06747764  0.55431145]]\n"
     ]
    }
   ],
   "source": [
    "if ftmodel_shape == 'ORI': # ORIGINAL인 경우\n",
    "    print('(1) encoder')\n",
    "    print('\\ninitial encoder'+'='*10)\n",
    "    print(initial_encoder)\n",
    "    print('\\nreal encoder:'+'='*10)\n",
    "    print(real_encoder)\n",
    "\n",
    "    print('\\n\\n(2) classifier')\n",
    "    print('\\ninitial classifier:'+'='*10)\n",
    "    print(initial_classifier)\n",
    "    print('\\nreal classifier:'+'='*10)\n",
    "    print(real_classifier)\n",
    "    \n",
    "elif ftmodel_shape == 'L2':\n",
    "    print('--')\n",
    "\n",
    "elif ftmodel_shape == 'DENSE_L2':\n",
    "    print('--')\n",
    "\n",
    "else:\n",
    "    raise Exception('잘못된 model shape 입력')"
   ]
  },
  {
   "cell_type": "code",
   "execution_count": 19,
   "metadata": {},
   "outputs": [
    {
     "data": {
      "image/png": "[encoded data removed]",
      "text/plain": [
       "<IPython.core.display.Image object>"
      ]
     },
     "execution_count": 19,
     "metadata": {},
     "output_type": "execute_result"
    }
   ],
   "source": [
    "tf.keras.utils.plot_model(bert_classifier, show_shapes=True, dpi=64)"
   ]
  },
  {
   "cell_type": "code",
   "execution_count": 20,
   "metadata": {
    "scrolled": true
   },
   "outputs": [
    {
     "data": {
      "image/png": "[encoded data removed]",
      "text/plain": [
       "<IPython.core.display.Image object>"
      ]
     },
     "execution_count": 20,
     "metadata": {},
     "output_type": "execute_result"
    }
   ],
   "source": [
    "tf.keras.utils.plot_model(bert_encoder, show_shapes=True, dpi=64)"
   ]
  },
  {
   "cell_type": "markdown",
   "metadata": {},
   "source": [
    "### (3) 최적화 프로그램 설정"
   ]
  },
  {
   "cell_type": "code",
   "execution_count": 21,
   "metadata": {},
   "outputs": [],
   "source": [
    "# BERT는 가중치 감소 ( \" AdamW \"라고도 함)가있는 Adam 최적화 프로그램을 채택합니다. 또한 먼저 0에서 워밍업 한 다음 0으로 감소하는 학습률 일정을 사용합니다.\n",
    "\n",
    "# Set up epochs and steps\n",
    "eval_batch_size = batch_size \n",
    "\n",
    "train_data_size = len(train_labels)\n",
    "steps_per_epoch = int(train_data_size / batch_size)\n",
    "num_train_steps = steps_per_epoch * epoch\n",
    "warmup_steps = int(epoch * train_data_size * 0.1 / batch_size) \n",
    "\n",
    "# creates an optimizer with learning rate schedule\n",
    "optimizer = nlp.optimization.create_optimizer(\n",
    "    2e-5, num_train_steps=num_train_steps, num_warmup_steps=warmup_steps)"
   ]
  },
  {
   "cell_type": "code",
   "execution_count": 22,
   "metadata": {},
   "outputs": [
    {
     "data": {
      "text/plain": [
       "official.nlp.optimization.AdamWeightDecay"
      ]
     },
     "execution_count": 22,
     "metadata": {},
     "output_type": "execute_result"
    }
   ],
   "source": [
    "type(optimizer)"
   ]
  },
  {
   "cell_type": "code",
   "execution_count": 23,
   "metadata": {},
   "outputs": [
    {
     "data": {
      "text/plain": [
       "4629"
      ]
     },
     "execution_count": 23,
     "metadata": {},
     "output_type": "execute_result"
    }
   ],
   "source": [
    "train_data_size"
   ]
  },
  {
   "cell_type": "markdown",
   "metadata": {},
   "source": [
    "### (4) 모델 훈련"
   ]
  },
  {
   "cell_type": "code",
   "execution_count": 24,
   "metadata": {
    "scrolled": false
   },
   "outputs": [
    {
     "name": "stdout",
     "output_type": "stream",
     "text": [
      "Epoch 1/10\n",
      "145/145 [==============================] - 40s 278ms/step - loss: 2.8970 - accuracy: 0.4684 - val_loss: 1.5587 - val_accuracy: 0.8494\n",
      "Epoch 2/10\n",
      "145/145 [==============================] - 38s 262ms/step - loss: 1.0649 - accuracy: 0.8963 - val_loss: 0.7027 - val_accuracy: 0.9126\n",
      "Epoch 3/10\n",
      "145/145 [==============================] - 37s 257ms/step - loss: 0.5749 - accuracy: 0.9423 - val_loss: 0.4650 - val_accuracy: 0.9405\n",
      "Epoch 4/10\n",
      "145/145 [==============================] - 37s 258ms/step - loss: 0.3798 - accuracy: 0.9654 - val_loss: 0.3613 - val_accuracy: 0.9517\n",
      "Epoch 5/10\n",
      "145/145 [==============================] - 37s 256ms/step - loss: 0.2864 - accuracy: 0.9782 - val_loss: 0.2802 - val_accuracy: 0.9647\n",
      "Epoch 6/10\n",
      "145/145 [==============================] - 37s 257ms/step - loss: 0.2243 - accuracy: 0.9834 - val_loss: 0.2428 - val_accuracy: 0.9684\n",
      "Epoch 7/10\n",
      "145/145 [==============================] - 38s 260ms/step - loss: 0.1901 - accuracy: 0.9875 - val_loss: 0.2240 - val_accuracy: 0.9740\n",
      "Epoch 8/10\n",
      "145/145 [==============================] - 37s 258ms/step - loss: 0.1655 - accuracy: 0.9890 - val_loss: 0.2062 - val_accuracy: 0.9721\n",
      "Epoch 9/10\n",
      "145/145 [==============================] - 38s 259ms/step - loss: 0.1498 - accuracy: 0.9914 - val_loss: 0.1985 - val_accuracy: 0.9703\n",
      "Epoch 10/10\n",
      "145/145 [==============================] - 38s 261ms/step - loss: 0.1429 - accuracy: 0.9914 - val_loss: 0.1957 - val_accuracy: 0.9684\n"
     ]
    },
    {
     "data": {
      "text/plain": [
       "<tensorflow.python.keras.callbacks.History at 0x214c22dd6d0>"
      ]
     },
     "execution_count": 24,
     "metadata": {},
     "output_type": "execute_result"
    }
   ],
   "source": [
    "metrics = [tf.keras.metrics.SparseCategoricalAccuracy('accuracy', dtype=tf.float32)]\n",
    "loss = tf.keras.losses.SparseCategoricalCrossentropy(from_logits=True)\n",
    "\n",
    "bert_classifier.compile(\n",
    "    optimizer=optimizer,\n",
    "    loss=loss,\n",
    "    metrics=metrics)\n",
    "\n",
    "bert_classifier.fit(\n",
    "      train, train_labels,\n",
    "      validation_data=(validation, validation_labels),\n",
    "      batch_size=batch_size,\n",
    "      epochs=epoch,\n",
    "      callbacks = [model_tensorboard, CustomCallback()]) "
   ]
  }
 ],
 "metadata": {
  "kernelspec": {
   "display_name": "Python 3 (ipykernel)",
   "language": "python",
   "name": "python3"
  },
  "language_info": {
   "codemirror_mode": {
    "name": "ipython",
    "version": 3
   },
   "file_extension": ".py",
   "mimetype": "text/x-python",
   "name": "python",
   "nbconvert_exporter": "python",
   "pygments_lexer": "ipython3",
   "version": "3.9.7"
  }
 },
 "nbformat": 4,
 "nbformat_minor": 4
}
